{
 "cells": [
  {
   "cell_type": "code",
   "execution_count": 254,
   "metadata": {},
   "outputs": [],
   "source": [
    "import pandas as pd\n",
    "import numpy as np\n",
    "import sklearn as sk\n",
    "from sklearn.utils import resample"
   ]
  },
  {
   "cell_type": "code",
   "execution_count": 255,
   "metadata": {},
   "outputs": [],
   "source": [
    "carpreg_columns = ['NYHA CLASS','Y2','PRIOR CARDIAC EVENTS/ARRYTHMIAS               1-YES               0-NO','VARIABLE    LVSF                  1-N LVSF                2- MILD LV            3- MOD LV             4- SEVERE LV']\n",
    "all_columns = ['NYHA CLASS', 'VARIABLE    Diagnosis', 'mWHO class1f1cat1on', 'EF',\n",
    "       'VARIABLE    LVSF                  1-N LVSF                2- MILD LV            3- MOD LV             4- SEVERE LV',\n",
    "       'VARIABLE      PHT                    1- NO PHT         2- MILD PHT            3- MOD PHT         4- SEV PHT           5- PS/PA',\n",
    "       'GDM', 'PIH', 'HYPO THYROID', 'Other obs c/c',\n",
    "       'FIRST EVENT INDEX ADMISSION                                                                          VARIABLE Complication   11- HF NV          12- HF V               13- HF V CS               14- IE               15-PVT                16- AMI                    17- ARRHY              18-BLEED C/C        19- EMB C/C        20-TAMP       21-AD      ',\n",
    "       'Y2',\n",
    "       'PRIOR CARDIAC EVENTS/ARRYTHMIAS               1-YES               0-NO',\n",
    "       'MECHANICAL VALVE               1-YES               0-NO',\n",
    "       'HIGH RISK LT SIDED LESIO/ LVOTO               1-YES               0-NO',\n",
    "       'CAD                    1-YES               0-NO',\n",
    "       'AORTOPATHY   1-YES               0-NO',\n",
    "       'CYANOSIS        1-YES               0-NO']\n",
    "\n",
    "all_columns = [name for name in all_columns if name not in carpreg_columns]"
   ]
  },
  {
   "cell_type": "code",
   "execution_count": 256,
   "metadata": {},
   "outputs": [],
   "source": [
    "a = pd.read_csv(\"DataPreprocessed.csv\")\n",
    "X = a.drop('Y2',axis=1)\n",
    "y = a['Y2']\n",
    "X_train, X_test, y_train, y_test = sk.model_selection.train_test_split(X, y, test_size=0.2, random_state=4)\n"
   ]
  },
  {
   "cell_type": "code",
   "execution_count": null,
   "metadata": {},
   "outputs": [],
   "source": []
  },
  {
   "cell_type": "code",
   "execution_count": 249,
   "metadata": {},
   "outputs": [],
   "source": [
    "\n",
    "clf = sk.naive_bayes.CategoricalNB()\n",
    "clf.fit(X_train, y_train)\n",
    "probs = clf.predict_proba(X_test)\n",
    "score = sk.metrics.accuracy_score(y_test,(probs[:,0] < 0.5) * [1])\n"
   ]
  },
  {
   "cell_type": "code",
   "execution_count": 250,
   "metadata": {},
   "outputs": [
    {
     "data": {
      "text/plain": [
       "0.8737864077669902"
      ]
     },
     "execution_count": 250,
     "metadata": {},
     "output_type": "execute_result"
    }
   ],
   "source": [
    "score"
   ]
  },
  {
   "cell_type": "code",
   "execution_count": 183,
   "metadata": {},
   "outputs": [
    {
     "data": {
      "text/plain": [
       "0.9271844660194175"
      ]
     },
     "execution_count": 183,
     "metadata": {},
     "output_type": "execute_result"
    }
   ],
   "source": [
    "sum(y_test)/len(y_test)"
   ]
  },
  {
   "cell_type": "code",
   "execution_count": 200,
   "metadata": {},
   "outputs": [
    {
     "data": {
      "text/plain": [
       "14"
      ]
     },
     "execution_count": 200,
     "metadata": {},
     "output_type": "execute_result"
    }
   ],
   "source": [
    "len(all_columns)"
   ]
  },
  {
   "cell_type": "code",
   "execution_count": null,
   "metadata": {},
   "outputs": [],
   "source": []
  }
 ],
 "metadata": {
  "kernelspec": {
   "display_name": "Python 3",
   "language": "python",
   "name": "python3"
  },
  "language_info": {
   "codemirror_mode": {
    "name": "ipython",
    "version": 3
   },
   "file_extension": ".py",
   "mimetype": "text/x-python",
   "name": "python",
   "nbconvert_exporter": "python",
   "pygments_lexer": "ipython3",
   "version": "3.7.4"
  }
 },
 "nbformat": 4,
 "nbformat_minor": 2
}
