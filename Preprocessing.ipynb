{
 "cells": [
  {
   "cell_type": "code",
   "execution_count": 10,
   "metadata": {},
   "outputs": [],
   "source": [
    "import pandas as pd"
   ]
  },
  {
   "cell_type": "code",
   "execution_count": 11,
   "metadata": {},
   "outputs": [],
   "source": [
    "# Removes alphabet characters\n",
    "def Poppy(mystring):\n",
    "    mystring = str(mystring)\n",
    "    newstring = \"\"\n",
    "    a = \"0123456789\"\n",
    "    for e in mystring:\n",
    "        if e not in a:\n",
    "            break\n",
    "        newstring = newstring + e\n",
    "    return int(newstring)"
   ]
  },
  {
   "cell_type": "code",
   "execution_count": 12,
   "metadata": {},
   "outputs": [],
   "source": [
    "a = pd.read_excel(\"DataShuffled.xls\")\n",
    "\n",
    "# Replace Variable Diagnosis with Integer\n",
    "a['VARIABLE    Diagnosis'] = a['VARIABLE    Diagnosis'].apply(Poppy)\n",
    "\n",
    "# One Hot Encode Variable Diagnosis and First Event Index\n",
    "diag_one_hot = pd.get_dummies(a['VARIABLE    Diagnosis'],prefix = 'VD')\n",
    "first_one_hot = pd.get_dummies(a['FIRST EVENT INDEX ADMISSION                                                                          VARIABLE Complication   11- HF NV          12- HF V               13- HF V CS               14- IE               15-PVT                16- AMI                    17- ARRHY              18-BLEED C/C        19- EMB C/C        20-TAMP       21-AD      '],prefix = 'First')\n",
    "a = a.drop('VARIABLE    Diagnosis',axis = 1)\n",
    "a = a.drop('FIRST EVENT INDEX ADMISSION                                                                          VARIABLE Complication   11- HF NV          12- HF V               13- HF V CS               14- IE               15-PVT                16- AMI                    17- ARRHY              18-BLEED C/C        19- EMB C/C        20-TAMP       21-AD      ',axis=1)\n",
    "a = a.join(diag_one_hot)\n",
    "a = a.join(first_one_hot)\n",
    "\n",
    "# Drop Parental Outcome\n",
    "a = a.drop(['Y1'],axis=1)"
   ]
  },
  {
   "cell_type": "code",
   "execution_count": 13,
   "metadata": {},
   "outputs": [],
   "source": [
    "diag_one_hot = pd.get_dummies(a['NYHA CLASS'],prefix = 'NYHA')\n",
    "first_one_hot = pd.get_dummies(a['mWHO class1f1cat1on'],prefix = 'mWHO')\n",
    "a = a.drop('NYHA CLASS',axis = 1)\n",
    "a = a.drop('mWHO class1f1cat1on',axis=1)\n",
    "a = a.join(diag_one_hot)\n",
    "a = a.join(first_one_hot)\n"
   ]
  },
  {
   "cell_type": "code",
   "execution_count": 14,
   "metadata": {},
   "outputs": [],
   "source": [
    "diag_one_hot = pd.get_dummies(a['VARIABLE      PHT                    1- NO PHT         2- MILD PHT            3- MOD PHT         4- SEV PHT           5- PS/PA'],prefix = 'PHT')\n",
    "a = a.drop('VARIABLE      PHT                    1- NO PHT         2- MILD PHT            3- MOD PHT         4- SEV PHT           5- PS/PA',axis=1)\n",
    "a = a.join(diag_one_hot)"
   ]
  },
  {
   "cell_type": "code",
   "execution_count": 16,
   "metadata": {},
   "outputs": [],
   "source": [
    "a= a.drop(' VARIABLE          Time of diag               1-BEFOR PREG         2- DURING PRE         3- DURING PRESENT',axis = 1)"
   ]
  },
  {
   "cell_type": "code",
   "execution_count": 17,
   "metadata": {},
   "outputs": [],
   "source": [
    "a = a.drop('Age',axis = 1)\n",
    "a = a.drop('EF',axis = 1)\n",
    "a = a.drop('SECOND EVENT INDEX ADMISSION  VARIABLE Complication   11- HF NV          12- HF V               13- HF V CS               14- IE               15-PVT                16- AMI                    17- ARRHY              18-BLEED C/C        19- EMB C/C        20-TAMP       21-AD    ',axis=1)\n",
    "a = a.drop('SUBSEQUENT ADMISSION VARIABLE Complication   11- HF NV          12- HF V               13- HF V CS               14- IE               15-PVT                16- AMI                    17- ARRHY              18-BLEED C/C        19- EMB C/C        20-TAMP       21-AD    ',axis=1)\n",
    "a = a.drop('POST INTERVENTION 1- BMV               2-CMC                 3- OMV                4- MVR /AVR              5- ASD CL                6- VSD CL         7- PDA CL              8- ICR                 9- PPI          10- OTHERS',axis=1)\n",
    "a = a.drop('Peripartum Breathlessness',axis=1)"
   ]
  },
  {
   "cell_type": "code",
   "execution_count": 18,
   "metadata": {},
   "outputs": [],
   "source": [
    "a.to_csv('DataPreprocessed2.csv')"
   ]
  },
  {
   "cell_type": "code",
   "execution_count": null,
   "metadata": {},
   "outputs": [],
   "source": []
  },
  {
   "cell_type": "code",
   "execution_count": 9,
   "metadata": {},
   "outputs": [
    {
     "data": {
      "text/plain": [
       "Index(['Age',\n",
       "       ' VARIABLE          Time of diag               1-BEFOR PREG         2- DURING PRE         3- DURING PRESENT',\n",
       "       'EF',\n",
       "       'VARIABLE    LVSF                  1-N LVSF                2- MILD LV            3- MOD LV             4- SEVERE LV',\n",
       "       'VARIABLE     Obs score         1- PRIMI       2-G2            3-G3            4- >G4',\n",
       "       'GDM', 'PIH', 'HYPO THYROID', 'Other obs c/c',\n",
       "       'SECOND EVENT INDEX ADMISSION  VARIABLE Complication   11- HF NV          12- HF V               13- HF V CS               14- IE               15-PVT                16- AMI                    17- ARRHY              18-BLEED C/C        19- EMB C/C        20-TAMP       21-AD    ',\n",
       "       'SUBSEQUENT ADMISSION VARIABLE Complication   11- HF NV          12- HF V               13- HF V CS               14- IE               15-PVT                16- AMI                    17- ARRHY              18-BLEED C/C        19- EMB C/C        20-TAMP       21-AD    ',\n",
       "       'Y2', 'Peripartum Breathlessness',\n",
       "       'POST INTERVENTION 1- BMV               2-CMC                 3- OMV                4- MVR /AVR              5- ASD CL                6- VSD CL         7- PDA CL              8- ICR                 9- PPI          10- OTHERS',\n",
       "       'PRIOR CARDIAC EVENTS/ARRYTHMIAS               1-YES               0-NO',\n",
       "       'MECHANICAL VALVE               1-YES               0-NO',\n",
       "       'HIGH RISK LT SIDED LESIO/ LVOTO               1-YES               0-NO',\n",
       "       'CAD                    1-YES               0-NO',\n",
       "       'AORTOPATHY   1-YES               0-NO',\n",
       "       'NO CARDIAC INTERVENTION              1-YES               0-NO',\n",
       "       'CYANOSIS        1-YES               0-NO',\n",
       "       'TAKING CARDIAC MEDICATIONS  1-YES               0-NO', 'Unnamed: 28',\n",
       "       'VD_1', 'VD_2', 'VD_3', 'VD_4', 'VD_5', 'VD_6', 'VD_7', 'VD_8', 'VD_9',\n",
       "       'VD_10', 'VD_11', 'VD_12', 'VD_13', 'VD_14', 'VD_15', 'VD_16', 'VD_17',\n",
       "       'VD_18', 'VD_19', 'VD_20', 'VD_21', 'VD_22', 'VD_23', 'VD_24', 'VD_25',\n",
       "       'VD_26', 'VD_27', 'VD_28', 'First_0', 'First_11', 'First_12',\n",
       "       'First_13', 'First_14', 'First_15', 'First_16', 'First_17', 'First_18',\n",
       "       'First_19', 'First_20', 'First_21', 'NYHA_1', 'NYHA_2', 'NYHA_3',\n",
       "       'NYHA_4', 'mWHO_1', 'mWHO_2', 'mWHO_3', 'mWHO_4', 'mWHO_5', 'PHT_1',\n",
       "       'PHT_2', 'PHT_3', 'PHT_4', 'PHT_5'],\n",
       "      dtype='object')"
      ]
     },
     "execution_count": 9,
     "metadata": {},
     "output_type": "execute_result"
    }
   ],
   "source": [
    "a.columns\n"
   ]
  },
  {
   "cell_type": "code",
   "execution_count": 13,
   "metadata": {},
   "outputs": [],
   "source": []
  },
  {
   "cell_type": "code",
   "execution_count": 31,
   "metadata": {},
   "outputs": [],
   "source": [
    "a.to_csv('DataPreprocessed1.csv')"
   ]
  },
  {
   "cell_type": "code",
   "execution_count": 8,
   "metadata": {},
   "outputs": [
    {
     "name": "stdout",
     "output_type": "stream",
     "text": [
      "Features by importance:\n",
      " [(18.772348733932134, 'Age'), (7.324505352040017, 'POST INTERVENTION 1- BMV               2-CMC                 3- OMV                4- MVR /AVR              5- ASD CL                6- VSD CL         7- PDA CL              8- ICR                 9- PPI          10- OTHERS'), (2.883031178426823, 'SECOND EVENT INDEX ADMISSION  VARIABLE Complication   11- HF NV          12- HF V               13- HF V CS               14- IE               15-PVT                16- AMI                    17- ARRHY              18-BLEED C/C        19- EMB C/C        20-TAMP       21-AD    '), (1.8763692662457376, ' VARIABLE          Time of diag               1-BEFOR PREG         2- DURING PRE         3- DURING PRESENT'), (1.7709929640755544, 'mWHO class1f1cat1on'), (1.3317452937904464, 'NO CARDIAC INTERVENTION              1-YES               0-NO'), (1.2365062444684627, 'VARIABLE     Obs score         1- PRIMI       2-G2            3-G3            4- >G4'), (1.0657226404126643, 'VARIABLE      PHT                    1- NO PHT         2- MILD PHT            3- MOD PHT         4- SEV PHT           5- PS/PA'), (0.4832371646095517, 'MECHANICAL VALVE               1-YES               0-NO'), (0.4650079878094431, 'HIGH RISK LT SIDED LESIO/ LVOTO               1-YES               0-NO'), (0.33486253072394756, 'SUBSEQUENT ADMISSION VARIABLE Complication   11- HF NV          12- HF V               13- HF V CS               14- IE               15-PVT                16- AMI                    17- ARRHY              18-BLEED C/C        19- EMB C/C        20-TAMP       21-AD    '), (0.3155648696351829, 'TAKING CARDIAC MEDICATIONS  1-YES               0-NO'), (0.3093272026780472, 'NYHA CLASS'), (0.24090799552164718, 'Diag_1'), (0.24030741432747116, 'Diag_14'), (0.20090584269742787, 'Diag_13'), (0.15501733369161333, 'First_15'), (0.14409621734892836, 'Y2'), (0.14029977974596217, 'Diag_2'), (0.1302254554076891, 'First_12'), (0.12990137916460467, 'VARIABLE    LVSF                  1-N LVSF                2- MILD LV            3- MOD LV             4- SEVERE LV'), (0.1084794084249956, 'Diag_3'), (0.07336095343668843, 'Diag_11'), (0.06971133340909101, 'Diag_15'), (0.06839834421574909, 'Diag_8'), (0.06581142682243085, 'PRIOR CARDIAC EVENTS/ARRYTHMIAS               1-YES               0-NO'), (0.06242921287924739, 'Diag_16'), (0.05164753956260939, 'HYPO THYROID'), (0.05071248909740674, 'CYANOSIS        1-YES               0-NO'), (0.049922546121330215, 'First_13'), (0.048335601111020914, 'Unnamed: 28'), (0.043791276029150394, 'First_0'), (0.04112303520304121, 'Diag_21'), (0.0410091539321156, 'PIH'), (0.039977475103368486, 'First_11'), (0.038353239894832684, 'Other obs c/c'), (0.03400361538075247, 'First_19'), (0.03180484664662217, 'First_18'), (0.02888549753097727, 'Peripartum Breathlessness'), (0.023841640485142247, 'Diag_17'), (0.02005152035050535, 'EF'), (0.019967142579820494, 'First_14'), (0.018168374172838866, 'First_17'), (0.0170126737688586, 'Diag_26'), (0.015184163808636023, 'GDM'), (0.013983619962193036, 'Diag_22'), (0.01355803427014618, 'Diag_5'), (0.012697848129356442, 'First_20'), (0.012252434523681499, 'AORTOPATHY   1-YES               0-NO'), (0.012004701487834394, 'CAD                    1-YES               0-NO'), (0.010824047186428903, 'Diag_4'), (0.009573481813594489, 'First_21'), (0.009426512184090338, 'Diag_23'), (0.00939158968521401, 'Diag_10'), (0.00800877938552367, 'Diag_18'), (0.007627341838921928, 'Diag_9'), (0.006697145174941275, 'Diag_27'), (0.0066227926121482155, 'Diag_24'), (0.0055255297816485275, 'Diag_28'), (0.005095868804390857, 'Diag_19'), (0.004336296436969118, 'Diag_12'), (0.0037970789391444187, 'Diag_25'), (0.003296416241183556, 'Diag_7'), (0.0032713380385323188, 'Diag_20'), (0.0024974424972411236, 'Diag_6'), (0.0024081011995832208, 'First_16')]\n"
     ]
    }
   ],
   "source": [
    "from sklearn.decomposition import PCA\n",
    "df = a\n",
    "\n",
    "pca = PCA(n_components=2, svd_solver='full')\n",
    "pca.fit(df)\n",
    "T = pca.transform(df)\n",
    "pca.explained_variance_ratio_\n",
    "components = pd.DataFrame(pca.components_, columns = df.columns, index=[1, 2])\n",
    "components\n",
    "import math\n",
    "\n",
    "def get_important_features(transformed_features, components_, columns):\n",
    "    \"\"\"\n",
    "    This function will return the most \"important\" \n",
    "    features so we can determine which have the most\n",
    "    effect on multi-dimensional scaling\n",
    "    \"\"\"\n",
    "    num_columns = len(columns)\n",
    "\n",
    "    # Scale the principal components by the max value in\n",
    "    # the transformed set belonging to that component\n",
    "    xvector = components_[0] * max(transformed_features[:,0])\n",
    "    yvector = components_[1] * max(transformed_features[:,1])\n",
    "\n",
    "    # Sort each column by it's length. These are your *original*\n",
    "    # columns, not the principal components.\n",
    "    important_features = { columns[i] : math.sqrt(xvector[i]**2 + yvector[i]**2) for i in range(num_columns) }\n",
    "    important_features = sorted(zip(important_features.values(), important_features.keys()), reverse=True)\n",
    "    print(\"Features by importance:\\n\", important_features)\n",
    "\n",
    "get_important_features(T, pca.components_, df.columns.values)\n"
   ]
  },
  {
   "cell_type": "code",
   "execution_count": null,
   "metadata": {},
   "outputs": [],
   "source": []
  }
 ],
 "metadata": {
  "kernelspec": {
   "display_name": "Python 3",
   "language": "python",
   "name": "python3"
  },
  "language_info": {
   "codemirror_mode": {
    "name": "ipython",
    "version": 3
   },
   "file_extension": ".py",
   "mimetype": "text/x-python",
   "name": "python",
   "nbconvert_exporter": "python",
   "pygments_lexer": "ipython3",
   "version": "3.7.4"
  }
 },
 "nbformat": 4,
 "nbformat_minor": 2
}
